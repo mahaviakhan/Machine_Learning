{
 "cells": [
  {
   "cell_type": "markdown",
   "id": "e582ffe5",
   "metadata": {},
   "source": [
    "## Mahavia khan 21ktele0637"
   ]
  },
  {
   "cell_type": "code",
   "execution_count": 1,
   "id": "4e5f5b8d",
   "metadata": {},
   "outputs": [],
   "source": [
    "from tensorflow.keras import layers\n",
    "from tensorflow.keras import models\n",
    "from tensorflow.keras import optimizers\n",
    "from tensorflow.keras.preprocessing.image import ImageDataGenerator\n",
    "from tensorflow.keras.callbacks import ModelCheckpoint\n",
    "import matplotlib.pyplot as plt\n",
    "import numpy as np\n",
    "from tensorflow.keras.models import load_model\n",
    "from sklearn.metrics import confusion_matrix, ConfusionMatrixDisplay, classification_report\n",
    "import seaborn as sns"
   ]
  },
  {
   "cell_type": "code",
   "execution_count": 2,
   "id": "9cb4dd88",
   "metadata": {},
   "outputs": [],
   "source": [
    "checkpoints = r'G:\\8TH SEMESTER\\MahaviaKhan_ML\\12\\\\E1-cp-{epoch:04d}-loss{val_loss:.2f}.h5'"
   ]
  },
  {
   "cell_type": "code",
   "execution_count": 9,
   "id": "737c9c55",
   "metadata": {},
   "outputs": [],
   "source": [
    "train_dir = r'G:\\8TH SEMESTER\\MahaviaKhan_ML\\12\\Dataset\\train'\n",
    "validation_dir = r'G:\\8TH SEMESTER\\MahaviaKhan_ML\\12\\Dataset\\validation'\n",
    "test_dir = r'G:\\8TH SEMESTER\\MahaviaKhan_ML\\12\\Dataset\\test'"
   ]
  },
  {
   "cell_type": "code",
   "execution_count": 16,
   "id": "41014359",
   "metadata": {},
   "outputs": [],
   "source": [
    "model = models.Sequential()\n",
    "model.add(layers.Conv2D(32, (3, 3), activation='relu',input_shape=(256, 256, 3)))\n",
    "model.add(layers.MaxPooling2D((2, 2)))\n",
    "model.add(layers.Conv2D(64, (3, 3), activation='relu'))\n",
    "model.add(layers.MaxPooling2D((2, 2)))\n",
    "model.add(layers.Conv2D(128, (3, 3), activation='relu'))\n",
    "model.add(layers.MaxPooling2D((2, 2)))\n",
    "model.add(layers.Conv2D(128, (3, 3), activation='relu'))\n",
    "model.add(layers.MaxPooling2D((2, 2)))\n",
    "model.add(layers.Flatten())\n",
    "model.add(layers.Dense(512, activation='relu'))\n",
    "model.add(layers.Dense(2, activation='softmax'))"
   ]
  },
  {
   "cell_type": "code",
   "execution_count": 17,
   "id": "d6477ffb",
   "metadata": {
    "scrolled": true
   },
   "outputs": [
    {
     "name": "stdout",
     "output_type": "stream",
     "text": [
      "Model: \"sequential_2\"\n",
      "_________________________________________________________________\n",
      " Layer (type)                Output Shape              Param #   \n",
      "=================================================================\n",
      " conv2d_8 (Conv2D)           (None, 254, 254, 32)      896       \n",
      "                                                                 \n",
      " max_pooling2d_8 (MaxPooling  (None, 127, 127, 32)     0         \n",
      " 2D)                                                             \n",
      "                                                                 \n",
      " conv2d_9 (Conv2D)           (None, 125, 125, 64)      18496     \n",
      "                                                                 \n",
      " max_pooling2d_9 (MaxPooling  (None, 62, 62, 64)       0         \n",
      " 2D)                                                             \n",
      "                                                                 \n",
      " conv2d_10 (Conv2D)          (None, 60, 60, 128)       73856     \n",
      "                                                                 \n",
      " max_pooling2d_10 (MaxPoolin  (None, 30, 30, 128)      0         \n",
      " g2D)                                                            \n",
      "                                                                 \n",
      " conv2d_11 (Conv2D)          (None, 28, 28, 128)       147584    \n",
      "                                                                 \n",
      " max_pooling2d_11 (MaxPoolin  (None, 14, 14, 128)      0         \n",
      " g2D)                                                            \n",
      "                                                                 \n",
      " flatten_2 (Flatten)         (None, 25088)             0         \n",
      "                                                                 \n",
      " dense_4 (Dense)             (None, 512)               12845568  \n",
      "                                                                 \n",
      " dense_5 (Dense)             (None, 2)                 1026      \n",
      "                                                                 \n",
      "=================================================================\n",
      "Total params: 13,087,426\n",
      "Trainable params: 13,087,426\n",
      "Non-trainable params: 0\n",
      "_________________________________________________________________\n"
     ]
    }
   ],
   "source": [
    "model.summary()"
   ]
  },
  {
   "cell_type": "code",
   "execution_count": 18,
   "id": "4fbb0f95",
   "metadata": {},
   "outputs": [],
   "source": [
    "model.compile(\n",
    "    loss='categorical_crossentropy',\n",
    "    optimizer=optimizers.Adam(learning_rate=1e-4),\n",
    "    metrics=['accuracy']\n",
    ")"
   ]
  },
  {
   "cell_type": "code",
   "execution_count": 19,
   "id": "42e28e41",
   "metadata": {},
   "outputs": [
    {
     "name": "stdout",
     "output_type": "stream",
     "text": [
      "Found 520 images belonging to 2 classes.\n",
      "Found 60 images belonging to 2 classes.\n"
     ]
    }
   ],
   "source": [
    "train_datagen = ImageDataGenerator(rescale=1./255)\n",
    "test_datagen = ImageDataGenerator(rescale=1./255)\n",
    "train_generator = train_datagen.flow_from_directory(train_dir, target_size=(256, 256), batch_size=32,class_mode='categorical')\n",
    "validation_generator = test_datagen.flow_from_directory(validation_dir,target_size=(256, 256),batch_size=32,class_mode='categorical')"
   ]
  },
  {
   "cell_type": "code",
   "execution_count": 20,
   "id": "360ecfcc",
   "metadata": {},
   "outputs": [],
   "source": [
    "EpochCheckpoint = ModelCheckpoint(checkpoints,\n",
    "                             monitor=\"val_loss\",\n",
    "                             save_best_only=True, \n",
    "                             verbose=1)\n",
    "callbacks = [EpochCheckpoint]"
   ]
  },
  {
   "cell_type": "code",
   "execution_count": 21,
   "id": "181ea608",
   "metadata": {
    "scrolled": true
   },
   "outputs": [
    {
     "name": "stdout",
     "output_type": "stream",
     "text": [
      "Epoch 1/10\n",
      "16/16 [==============================] - ETA: 0s - loss: 0.5441 - accuracy: 0.7213\n",
      "Epoch 1: val_loss improved from inf to 0.74441, saving model to G:\\8TH SEMESTER\\MahaviaKhan_ML\\12\\E1-cp-0001-loss0.74.h5\n",
      "16/16 [==============================] - 43s 3s/step - loss: 0.5441 - accuracy: 0.7213 - val_loss: 0.7444 - val_accuracy: 0.5000\n",
      "Epoch 2/10\n",
      "16/16 [==============================] - ETA: 0s - loss: 0.3233 - accuracy: 0.8607\n",
      "Epoch 2: val_loss improved from 0.74441 to 0.41017, saving model to G:\\8TH SEMESTER\\MahaviaKhan_ML\\12\\E1-cp-0002-loss0.41.h5\n",
      "16/16 [==============================] - 40s 2s/step - loss: 0.3233 - accuracy: 0.8607 - val_loss: 0.4102 - val_accuracy: 0.7833\n",
      "Epoch 3/10\n",
      "16/16 [==============================] - ETA: 0s - loss: 0.1484 - accuracy: 0.9406\n",
      "Epoch 3: val_loss improved from 0.41017 to 0.33382, saving model to G:\\8TH SEMESTER\\MahaviaKhan_ML\\12\\E1-cp-0003-loss0.33.h5\n",
      "16/16 [==============================] - 40s 3s/step - loss: 0.1484 - accuracy: 0.9406 - val_loss: 0.3338 - val_accuracy: 0.8333\n",
      "Epoch 4/10\n",
      "16/16 [==============================] - ETA: 0s - loss: 0.1030 - accuracy: 0.9529\n",
      "Epoch 4: val_loss improved from 0.33382 to 0.22247, saving model to G:\\8TH SEMESTER\\MahaviaKhan_ML\\12\\E1-cp-0004-loss0.22.h5\n",
      "16/16 [==============================] - 38s 2s/step - loss: 0.1030 - accuracy: 0.9529 - val_loss: 0.2225 - val_accuracy: 0.9000\n",
      "Epoch 5/10\n",
      "16/16 [==============================] - ETA: 0s - loss: 0.0844 - accuracy: 0.9693\n",
      "Epoch 5: val_loss improved from 0.22247 to 0.10499, saving model to G:\\8TH SEMESTER\\MahaviaKhan_ML\\12\\E1-cp-0005-loss0.10.h5\n",
      "16/16 [==============================] - 38s 2s/step - loss: 0.0844 - accuracy: 0.9693 - val_loss: 0.1050 - val_accuracy: 0.9667\n",
      "Epoch 6/10\n",
      "16/16 [==============================] - ETA: 0s - loss: 0.0299 - accuracy: 0.9877\n",
      "Epoch 6: val_loss did not improve from 0.10499\n",
      "16/16 [==============================] - 37s 2s/step - loss: 0.0299 - accuracy: 0.9877 - val_loss: 0.1907 - val_accuracy: 0.9500\n",
      "Epoch 7/10\n",
      "16/16 [==============================] - ETA: 0s - loss: 0.0291 - accuracy: 0.9877\n",
      "Epoch 7: val_loss improved from 0.10499 to 0.07200, saving model to G:\\8TH SEMESTER\\MahaviaKhan_ML\\12\\E1-cp-0007-loss0.07.h5\n",
      "16/16 [==============================] - 40s 3s/step - loss: 0.0291 - accuracy: 0.9877 - val_loss: 0.0720 - val_accuracy: 0.9500\n",
      "Epoch 8/10\n",
      "16/16 [==============================] - ETA: 0s - loss: 0.0482 - accuracy: 0.9734\n",
      "Epoch 8: val_loss improved from 0.07200 to 0.05716, saving model to G:\\8TH SEMESTER\\MahaviaKhan_ML\\12\\E1-cp-0008-loss0.06.h5\n",
      "16/16 [==============================] - 38s 2s/step - loss: 0.0482 - accuracy: 0.9734 - val_loss: 0.0572 - val_accuracy: 0.9667\n",
      "Epoch 9/10\n",
      "16/16 [==============================] - ETA: 0s - loss: 0.0121 - accuracy: 0.9980\n",
      "Epoch 9: val_loss improved from 0.05716 to 0.05297, saving model to G:\\8TH SEMESTER\\MahaviaKhan_ML\\12\\E1-cp-0009-loss0.05.h5\n",
      "16/16 [==============================] - 39s 2s/step - loss: 0.0121 - accuracy: 0.9980 - val_loss: 0.0530 - val_accuracy: 0.9667\n",
      "Epoch 10/10\n",
      "16/16 [==============================] - ETA: 0s - loss: 0.0710 - accuracy: 0.9734\n",
      "Epoch 10: val_loss improved from 0.05297 to 0.04629, saving model to G:\\8TH SEMESTER\\MahaviaKhan_ML\\12\\E1-cp-0010-loss0.05.h5\n",
      "16/16 [==============================] - 42s 3s/step - loss: 0.0710 - accuracy: 0.9734 - val_loss: 0.0463 - val_accuracy: 0.9667\n"
     ]
    }
   ],
   "source": [
    "step_size_train = train_generator.n//train_generator.batch_size\n",
    "\n",
    "model_history = model.fit(train_generator,\n",
    "                    validation_data =validation_generator,\n",
    "                   steps_per_epoch=step_size_train,\n",
    "                   epochs=10,\n",
    "                    callbacks=callbacks)"
   ]
  },
  {
   "cell_type": "code",
   "execution_count": 22,
   "id": "ec5e9631",
   "metadata": {
    "scrolled": true
   },
   "outputs": [
    {
     "data": {
      "text/plain": [
       "{'loss': [0.5440813302993774,\n",
       "  0.323253333568573,\n",
       "  0.14840751886367798,\n",
       "  0.10295087844133377,\n",
       "  0.0843823179602623,\n",
       "  0.029932137578725815,\n",
       "  0.029087789356708527,\n",
       "  0.04817459359765053,\n",
       "  0.012071522884070873,\n",
       "  0.07096889615058899],\n",
       " 'accuracy': [0.7213114500045776,\n",
       "  0.8606557250022888,\n",
       "  0.9405737519264221,\n",
       "  0.9528688788414001,\n",
       "  0.9692623019218445,\n",
       "  0.9877049326896667,\n",
       "  0.9877049326896667,\n",
       "  0.9733606576919556,\n",
       "  0.9979507923126221,\n",
       "  0.9733606576919556],\n",
       " 'val_loss': [0.7444061636924744,\n",
       "  0.41017183661460876,\n",
       "  0.33381780982017517,\n",
       "  0.22246912121772766,\n",
       "  0.10498633235692978,\n",
       "  0.19070196151733398,\n",
       "  0.07199797034263611,\n",
       "  0.05716229975223541,\n",
       "  0.05297457426786423,\n",
       "  0.046285320073366165],\n",
       " 'val_accuracy': [0.5,\n",
       "  0.7833333611488342,\n",
       "  0.8333333134651184,\n",
       "  0.8999999761581421,\n",
       "  0.9666666388511658,\n",
       "  0.949999988079071,\n",
       "  0.949999988079071,\n",
       "  0.9666666388511658,\n",
       "  0.9666666388511658,\n",
       "  0.9666666388511658]}"
      ]
     },
     "execution_count": 22,
     "metadata": {},
     "output_type": "execute_result"
    }
   ],
   "source": [
    "model_history.history"
   ]
  },
  {
   "cell_type": "code",
   "execution_count": 24,
   "id": "2c3b4d64",
   "metadata": {},
   "outputs": [],
   "source": [
    "model.save(r'G:\\8TH SEMESTER\\MahaviaKhan_ML\\12\\E1-cp-0010-loss0.05.h5')"
   ]
  },
  {
   "cell_type": "code",
   "execution_count": 27,
   "id": "4ec715a1",
   "metadata": {},
   "outputs": [
    {
     "name": "stdout",
     "output_type": "stream",
     "text": [
      "Found 24 images belonging to 2 classes.\n",
      "1/1 [==============================] - 0s 483ms/step\n"
     ]
    },
    {
     "data": {
      "image/png": "[encoded data removed]",
      "text/plain": [
       "<Figure size 640x480 with 2 Axes>"
      ]
     },
     "metadata": {},
     "output_type": "display_data"
    },
    {
     "data": {
      "text/plain": [
       "<Figure size 640x480 with 0 Axes>"
      ]
     },
     "metadata": {},
     "output_type": "display_data"
    }
   ],
   "source": [
    "#model = load_model(r'C:\\Users\\Administrator\\Downloads\\ML Lab\\Computer vision\\lab11\\model_lab11.h5')\n",
    "test_datagen = ImageDataGenerator(rescale=1./255)\n",
    "test_generator = test_datagen.flow_from_directory(test_dir, target_size=(256, 256), batch_size=32, shuffle=False, class_mode='categorical')\n",
    "label=test_generator.labels\n",
    "preds=model.predict(test_generator)\n",
    "pred = np.argmax(preds, axis = 1)\n",
    "cm = confusion_matrix(label, pred)\n",
    "disp = ConfusionMatrixDisplay(confusion_matrix=cm,  display_labels=['healthy', 'unhealthy '])\n",
    "disp.plot()\n",
    "plt.show()\n",
    "plt.savefig(r'G:\\8TH SEMESTER\\MahaviaKhan_ML\\12\\confusion_matrics.jpg')"
   ]
  },
  {
   "cell_type": "code",
   "execution_count": 26,
   "id": "4b72005c",
   "metadata": {},
   "outputs": [
    {
     "name": "stdout",
     "output_type": "stream",
     "text": [
      "              precision    recall  f1-score   support\n",
      "\n",
      "     healthy       0.92      1.00      0.96        12\n",
      "  unhealthy        1.00      0.92      0.96        12\n",
      "\n",
      "    accuracy                           0.96        24\n",
      "   macro avg       0.96      0.96      0.96        24\n",
      "weighted avg       0.96      0.96      0.96        24\n",
      "\n"
     ]
    }
   ],
   "source": [
    "print(classification_report(label, pred, target_names=['healthy', 'unhealthy ']))"
   ]
  },
  {
   "cell_type": "code",
   "execution_count": null,
   "id": "49171c09",
   "metadata": {},
   "outputs": [],
   "source": []
  },
  {
   "cell_type": "code",
   "execution_count": null,
   "id": "d5c924ae",
   "metadata": {},
   "outputs": [],
   "source": []
  },
  {
   "cell_type": "code",
   "execution_count": null,
   "id": "5094e712",
   "metadata": {},
   "outputs": [],
   "source": []
  }
 ],
 "metadata": {
  "kernelspec": {
   "display_name": "Python 3 (ipykernel)",
   "language": "python",
   "name": "python3"
  },
  "language_info": {
   "codemirror_mode": {
    "name": "ipython",
    "version": 3
   },
   "file_extension": ".py",
   "mimetype": "text/x-python",
   "name": "python",
   "nbconvert_exporter": "python",
   "pygments_lexer": "ipython3",
   "version": "3.7.16"
  }
 },
 "nbformat": 4,
 "nbformat_minor": 5
}
