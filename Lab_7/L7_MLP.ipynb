{
 "cells": [
  {
   "cell_type": "code",
   "execution_count": 1,
   "metadata": {},
   "outputs": [],
   "source": [
    "import os\n",
    "os.chdir('G:\\8TH SEMESTER\\MahaviaKhan_ML')"
   ]
  },
  {
   "cell_type": "code",
   "execution_count": 2,
   "metadata": {},
   "outputs": [],
   "source": [
    "from sklearn.metrics import mean_squared_error, mean_absolute_error, explained_variance_score, r2_score\n",
    "from timeseires.utils.to_split import to_split\n",
    "from timeseires.utils.multivariate_multi_step import multivariate_multi_step\n",
    "from timeseires.utils.multivariate_single_step import multivariate_single_step\n",
    "from timeseires.utils.univariate_multi_step import univariate_multi_step\n",
    "from timeseires.utils.univariate_single_step import univariate_single_step\n",
    "from timeseires.utils.CosineAnnealingLRS import CosineAnnealingLRS\n",
    "from timeseires.callbacks.EpochCheckpoint import EpochCheckpoint\n",
    "from tensorflow.keras.callbacks import ModelCheckpoint\n",
    "from timeseires.callbacks.TrainingMonitor import TrainingMonitor\n",
    "from tensorflow.keras.optimizers import Adam\n",
    "from tensorflow.keras.optimizers import SGD\n",
    "from tensorflow.keras.models import load_model\n",
    "from tensorflow.keras.layers import LSTM, Bidirectional, Add\n",
    "from tensorflow.keras.layers import BatchNormalization\n",
    "from tensorflow.keras.layers import Conv1D,TimeDistributed\n",
    "from tensorflow.keras.layers import Dense, Dropout, Activation, Flatten,MaxPooling1D,Concatenate,AveragePooling1D, GlobalMaxPooling1D, Input\n",
    "from tensorflow.keras.models import Sequential,Model\n",
    "import pandas as pd\n",
    "import time, pickle\n",
    "import numpy as np\n",
    "import tensorflow.keras.backend as K\n",
    "import tensorflow\n",
    "from tensorflow.keras.layers import Input, Reshape, Lambda\n",
    "from tensorflow.keras.layers import Layer, Flatten, LeakyReLU, concatenate, Dense\n",
    "from tensorflow.keras.regularizers import l2\n",
    "import glob\n",
    "import h5py\n",
    "import matplotlib.pyplot as plt\n",
    "from keras.callbacks import Callback"
   ]
  },
  {
   "cell_type": "code",
   "execution_count": 3,
   "metadata": {},
   "outputs": [],
   "source": [
    "#lookback = 24\n",
    "model = None\n",
    "start_epoch = 0\n",
    "time_steps=24\n",
    "num_features=21"
   ]
  },
  {
   "cell_type": "code",
   "execution_count": 4,
   "metadata": {},
   "outputs": [],
   "source": [
    "def MLP():\n",
    "    model = Sequential()\n",
    "    model.add(Flatten(input_shape=(time_steps , num_features)))\n",
    "    model.add(Dense(32, activation='relu'))\n",
    "    model.add(Dense(1))\n",
    "    return model"
   ]
  },
  {
   "cell_type": "code",
   "execution_count": 5,
   "metadata": {
    "scrolled": true
   },
   "outputs": [
    {
     "name": "stdout",
     "output_type": "stream",
     "text": [
      "Model: \"sequential\"\n",
      "_________________________________________________________________\n",
      " Layer (type)                Output Shape              Param #   \n",
      "=================================================================\n",
      " flatten (Flatten)           (None, 504)               0         \n",
      "                                                                 \n",
      " dense (Dense)               (None, 32)                16160     \n",
      "                                                                 \n",
      " dense_1 (Dense)             (None, 1)                 33        \n",
      "                                                                 \n",
      "=================================================================\n",
      "Total params: 16,193\n",
      "Trainable params: 16,193\n",
      "Non-trainable params: 0\n",
      "_________________________________________________________________\n"
     ]
    }
   ],
   "source": [
    "model1 = MLP()\n",
    "model1.summary()"
   ]
  },
  {
   "cell_type": "code",
   "execution_count": 6,
   "metadata": {},
   "outputs": [
    {
     "name": "stdout",
     "output_type": "stream",
     "text": [
      "You must install pydot (`pip install pydot`) and install graphviz (see instructions at https://graphviz.gitlab.io/download/) for plot_model to work.\n"
     ]
    }
   ],
   "source": [
    "tensorflow.keras.utils.plot_model(model1 )"
   ]
  },
  {
   "cell_type": "code",
   "execution_count": 7,
   "metadata": {},
   "outputs": [],
   "source": [
    "import os\n",
    "\n",
    "# ✅ Corrected checkpoint path (use raw string or double backslashes)\n",
    "checkpoints = r'G:\\8TH SEMESTER\\MahaviaKhan_ML\\chkmlp\\E1-cp-{epoch:04d}-loss{val_loss:.2f}.h5'\n",
    "\n",
    "# ✅ Output directory path\n",
    "OUTPUT_PATH = r'G:\\8TH SEMESTER\\MahaviaKhan_ML'\n",
    "\n",
    "# ✅ Optional paths (uncomment if needed)\n",
    "FIG_PATH = os.path.join(OUTPUT_PATH, \"history.png\")\n",
    "JSON_PATH = os.path.join(OUTPUT_PATH, \"history.json\")\n"
   ]
  },
  {
   "cell_type": "code",
   "execution_count": 8,
   "metadata": {},
   "outputs": [],
   "source": [
    "# construct the callback to save only the *best* model to disk\n",
    "# based on the validation loss\n",
    "EpochCheckpoint1 = ModelCheckpoint(checkpoints,\n",
    "                             monitor=\"val_loss\",\n",
    "                             save_best_only=True, \n",
    "                             verbose=1)\n",
    "#TrainingMonitor1=TrainingMonitor(FIG_PATH, jsonPath=JSON_PATH, startAt=start_epoch)\n",
    "\n",
    "# construct the set of callbacks\n",
    "callbacks = [EpochCheckpoint1]"
   ]
  },
  {
   "cell_type": "code",
   "execution_count": 9,
   "metadata": {},
   "outputs": [
    {
     "name": "stdout",
     "output_type": "stream",
     "text": [
      "[INFO] compiling model...\n"
     ]
    }
   ],
   "source": [
    "# if there is no specific model checkpoint supplied, then initialize\n",
    "# the network and compile the model\n",
    "if model is None:\n",
    "    print(\"[INFO] compiling model...\")\n",
    "    model =MLP()\n",
    "    opt = Adam(1e-3)\n",
    "    model.compile(loss= 'mae', optimizer=opt, metrics=[\"mae\", \"mape\"])\n",
    "# otherwise, load the checkpoint from disk\n",
    "else:\n",
    "    print(\"[INFO] loading {}...\".format(model))\n",
    "    model = load_model(model)\n",
    "\n",
    "    # update the learning rate\n",
    "    print(\"[INFO] old learning rate: {}\".format(K.get_value(model.optimizer.lr)))\n",
    "    K.set_value(model.optimizer.lr, 1e-4)\n",
    "    print(\"[INFO] new learning rate: {}\".format(K.get_value(model.optimizer.lr)))"
   ]
  },
  {
   "cell_type": "code",
   "execution_count": 10,
   "metadata": {},
   "outputs": [
    {
     "data": {
      "text/plain": [
       "((84907, 21), (24259, 21), (12130, 21))"
      ]
     },
     "execution_count": 10,
     "metadata": {},
     "output_type": "execute_result"
    }
   ],
   "source": [
    "import os\n",
    "path_dataset =r'G:\\8TH SEMESTER\\MahaviaKhan_ML\\AEP_Dataset'\n",
    "path_tr = os.path.join(path_dataset, 'AEP_train.csv')\n",
    "df_tr = pd.read_csv(path_tr)\n",
    "train_set = df_tr.iloc[:].values\n",
    "path_v = os.path.join(path_dataset, 'AEP_validation.csv')\n",
    "df_v = pd.read_csv(path_v)\n",
    "validation_set = df_v.iloc[:].values \n",
    "path_te = os.path.join(path_dataset, 'AEP_test.csv')\n",
    "df_te = pd.read_csv(path_te)\n",
    "test_set = df_te.iloc[:].values \n",
    "\n",
    "path_scaler = os.path.join(path_dataset, 'AEP_Scaler.pkl')\n",
    "scaler         = pickle.load(open(path_scaler, 'rb'))\n",
    "\n",
    "train_set.shape, validation_set.shape, test_set.shape"
   ]
  },
  {
   "cell_type": "code",
   "execution_count": 16,
   "metadata": {},
   "outputs": [
    {
     "data": {
      "text/html": [
       "<div>\n",
       "<style scoped>\n",
       "    .dataframe tbody tr th:only-of-type {\n",
       "        vertical-align: middle;\n",
       "    }\n",
       "\n",
       "    .dataframe tbody tr th {\n",
       "        vertical-align: top;\n",
       "    }\n",
       "\n",
       "    .dataframe thead th {\n",
       "        text-align: right;\n",
       "    }\n",
       "</style>\n",
       "<table border=\"1\" class=\"dataframe\">\n",
       "  <thead>\n",
       "    <tr style=\"text-align: right;\">\n",
       "      <th></th>\n",
       "      <th>aep</th>\n",
       "      <th>Is_holiday1</th>\n",
       "      <th>Is_holiday2</th>\n",
       "      <th>Is_Weekend1</th>\n",
       "      <th>Is_Weekend2</th>\n",
       "      <th>sin_month</th>\n",
       "      <th>cos_month</th>\n",
       "      <th>sin_week</th>\n",
       "      <th>cos_week</th>\n",
       "      <th>sin_hour</th>\n",
       "      <th>...</th>\n",
       "      <th>sin_wintert</th>\n",
       "      <th>cos_wintert</th>\n",
       "      <th>sin_springt</th>\n",
       "      <th>cos_springt</th>\n",
       "      <th>sin_summert</th>\n",
       "      <th>cos_summert</th>\n",
       "      <th>sin_fallt</th>\n",
       "      <th>cos_fallt</th>\n",
       "      <th>sin_year_dayt</th>\n",
       "      <th>cos_year_dayt</th>\n",
       "    </tr>\n",
       "  </thead>\n",
       "  <tbody>\n",
       "    <tr>\n",
       "      <th>0</th>\n",
       "      <td>0.518532</td>\n",
       "      <td>1.0</td>\n",
       "      <td>0.0</td>\n",
       "      <td>1.0</td>\n",
       "      <td>0.0</td>\n",
       "      <td>1.0</td>\n",
       "      <td>6.123234e-17</td>\n",
       "      <td>0.866025</td>\n",
       "      <td>-0.5</td>\n",
       "      <td>-0.707107</td>\n",
       "      <td>...</td>\n",
       "      <td>0.0</td>\n",
       "      <td>1.0</td>\n",
       "      <td>1.0</td>\n",
       "      <td>6.123234e-17</td>\n",
       "      <td>0.0</td>\n",
       "      <td>1.0</td>\n",
       "      <td>0.0</td>\n",
       "      <td>1.0</td>\n",
       "      <td>0.956235</td>\n",
       "      <td>0.2926</td>\n",
       "    </tr>\n",
       "  </tbody>\n",
       "</table>\n",
       "<p>1 rows × 21 columns</p>\n",
       "</div>"
      ],
      "text/plain": [
       "        aep  Is_holiday1  Is_holiday2  Is_Weekend1  Is_Weekend2  sin_month  \\\n",
       "0  0.518532          1.0          0.0          1.0          0.0        1.0   \n",
       "\n",
       "      cos_month  sin_week  cos_week  sin_hour  ...  sin_wintert  cos_wintert  \\\n",
       "0  6.123234e-17  0.866025      -0.5 -0.707107  ...          0.0          1.0   \n",
       "\n",
       "   sin_springt   cos_springt  sin_summert  cos_summert  sin_fallt  cos_fallt  \\\n",
       "0          1.0  6.123234e-17          0.0          1.0        0.0        1.0   \n",
       "\n",
       "   sin_year_dayt  cos_year_dayt  \n",
       "0       0.956235         0.2926  \n",
       "\n",
       "[1 rows x 21 columns]"
      ]
     },
     "execution_count": 16,
     "metadata": {},
     "output_type": "execute_result"
    }
   ],
   "source": [
    "df_te.head(1)"
   ]
  },
  {
   "cell_type": "code",
   "execution_count": 17,
   "metadata": {},
   "outputs": [
    {
     "data": {
      "text/plain": [
       "array([ 5.18532385e-01,  1.00000000e+00,  0.00000000e+00,  1.00000000e+00,\n",
       "        0.00000000e+00,  1.00000000e+00,  6.12323400e-17,  8.66025404e-01,\n",
       "       -5.00000000e-01, -7.07106781e-01, -7.07106781e-01,  0.00000000e+00,\n",
       "        1.00000000e+00,  1.00000000e+00,  6.12323400e-17,  0.00000000e+00,\n",
       "        1.00000000e+00,  0.00000000e+00,  1.00000000e+00,  9.56234827e-01,\n",
       "        2.92600336e-01])"
      ]
     },
     "execution_count": 17,
     "metadata": {},
     "output_type": "execute_result"
    }
   ],
   "source": [
    "test_set[0]"
   ]
  },
  {
   "cell_type": "code",
   "execution_count": 18,
   "metadata": {},
   "outputs": [],
   "source": [
    "time_steps=2\n",
    "num_features=21"
   ]
  },
  {
   "cell_type": "code",
   "execution_count": 19,
   "metadata": {},
   "outputs": [],
   "source": [
    "train_X , train_y = univariate_multi_step(train_set, time_steps, target_col=0,target_len=1)"
   ]
  },
  {
   "cell_type": "code",
   "execution_count": 20,
   "metadata": {},
   "outputs": [
    {
     "data": {
      "text/plain": [
       "array([[ 1.69100212e-01,  1.00000000e+00,  0.00000000e+00,\n",
       "         1.00000000e+00,  0.00000000e+00, -8.66025404e-01,\n",
       "         5.00000000e-01, -8.66025404e-01, -5.00000000e-01,\n",
       "         2.58819045e-01,  9.65925826e-01,  0.00000000e+00,\n",
       "         1.00000000e+00,  0.00000000e+00,  1.00000000e+00,\n",
       "         0.00000000e+00,  1.00000000e+00,  1.00000000e+00,\n",
       "         6.12323400e-17, -9.99768502e-01,  2.15160974e-02],\n",
       "       [ 1.41395233e-01,  1.00000000e+00,  0.00000000e+00,\n",
       "         1.00000000e+00,  0.00000000e+00, -8.66025404e-01,\n",
       "         5.00000000e-01, -8.66025404e-01, -5.00000000e-01,\n",
       "         5.00000000e-01,  8.66025404e-01,  0.00000000e+00,\n",
       "         1.00000000e+00,  0.00000000e+00,  1.00000000e+00,\n",
       "         0.00000000e+00,  1.00000000e+00,  1.00000000e+00,\n",
       "         6.12323400e-17, -9.99768502e-01,  2.15160974e-02]])"
      ]
     },
     "execution_count": 20,
     "metadata": {},
     "output_type": "execute_result"
    }
   ],
   "source": [
    "train_X[0]"
   ]
  },
  {
   "cell_type": "code",
   "execution_count": 21,
   "metadata": {},
   "outputs": [
    {
     "data": {
      "text/plain": [
       "array([0.12623237])"
      ]
     },
     "execution_count": 21,
     "metadata": {},
     "output_type": "execute_result"
    }
   ],
   "source": [
    "train_y[0]"
   ]
  },
  {
   "cell_type": "code",
   "execution_count": 22,
   "metadata": {},
   "outputs": [],
   "source": [
    "time_steps =24\n",
    "train_X , train_y = univariate_multi_step(train_set, time_steps, target_col=1,target_len=2)"
   ]
  },
  {
   "cell_type": "code",
   "execution_count": 23,
   "metadata": {},
   "outputs": [
    {
     "data": {
      "text/plain": [
       "array([[ 1.69100212e-01,  1.00000000e+00,  0.00000000e+00,\n",
       "         1.00000000e+00,  0.00000000e+00, -8.66025404e-01,\n",
       "         5.00000000e-01, -8.66025404e-01, -5.00000000e-01,\n",
       "         2.58819045e-01,  9.65925826e-01,  0.00000000e+00,\n",
       "         1.00000000e+00,  0.00000000e+00,  1.00000000e+00,\n",
       "         0.00000000e+00,  1.00000000e+00,  1.00000000e+00,\n",
       "         6.12323400e-17, -9.99768502e-01,  2.15160974e-02],\n",
       "       [ 1.41395233e-01,  1.00000000e+00,  0.00000000e+00,\n",
       "         1.00000000e+00,  0.00000000e+00, -8.66025404e-01,\n",
       "         5.00000000e-01, -8.66025404e-01, -5.00000000e-01,\n",
       "         5.00000000e-01,  8.66025404e-01,  0.00000000e+00,\n",
       "         1.00000000e+00,  0.00000000e+00,  1.00000000e+00,\n",
       "         0.00000000e+00,  1.00000000e+00,  1.00000000e+00,\n",
       "         6.12323400e-17, -9.99768502e-01,  2.15160974e-02],\n",
       "       [ 1.26232372e-01,  1.00000000e+00,  0.00000000e+00,\n",
       "         1.00000000e+00,  0.00000000e+00, -8.66025404e-01,\n",
       "         5.00000000e-01, -8.66025404e-01, -5.00000000e-01,\n",
       "         7.07106781e-01,  7.07106781e-01,  0.00000000e+00,\n",
       "         1.00000000e+00,  0.00000000e+00,  1.00000000e+00,\n",
       "         0.00000000e+00,  1.00000000e+00,  1.00000000e+00,\n",
       "         6.12323400e-17, -9.99768502e-01,  2.15160974e-02],\n",
       "       [ 1.20304505e-01,  1.00000000e+00,  0.00000000e+00,\n",
       "         1.00000000e+00,  0.00000000e+00, -8.66025404e-01,\n",
       "         5.00000000e-01, -8.66025404e-01, -5.00000000e-01,\n",
       "         8.66025404e-01,  5.00000000e-01,  0.00000000e+00,\n",
       "         1.00000000e+00,  0.00000000e+00,  1.00000000e+00,\n",
       "         0.00000000e+00,  1.00000000e+00,  1.00000000e+00,\n",
       "         6.12323400e-17, -9.99768502e-01,  2.15160974e-02],\n",
       "       [ 1.25545988e-01,  1.00000000e+00,  0.00000000e+00,\n",
       "         1.00000000e+00,  0.00000000e+00, -8.66025404e-01,\n",
       "         5.00000000e-01, -8.66025404e-01, -5.00000000e-01,\n",
       "         9.65925826e-01,  2.58819045e-01,  0.00000000e+00,\n",
       "         1.00000000e+00,  0.00000000e+00,  1.00000000e+00,\n",
       "         0.00000000e+00,  1.00000000e+00,  1.00000000e+00,\n",
       "         6.12323400e-17, -9.99768502e-01,  2.15160974e-02],\n",
       "       [ 1.62922751e-01,  1.00000000e+00,  0.00000000e+00,\n",
       "         1.00000000e+00,  0.00000000e+00, -8.66025404e-01,\n",
       "         5.00000000e-01, -8.66025404e-01, -5.00000000e-01,\n",
       "         1.00000000e+00,  6.12323400e-17,  0.00000000e+00,\n",
       "         1.00000000e+00,  0.00000000e+00,  1.00000000e+00,\n",
       "         0.00000000e+00,  1.00000000e+00,  1.00000000e+00,\n",
       "         6.12323400e-17, -9.99768502e-01,  2.15160974e-02],\n",
       "       [ 2.51029577e-01,  1.00000000e+00,  0.00000000e+00,\n",
       "         1.00000000e+00,  0.00000000e+00, -8.66025404e-01,\n",
       "         5.00000000e-01, -8.66025404e-01, -5.00000000e-01,\n",
       "         9.65925826e-01, -2.58819045e-01,  0.00000000e+00,\n",
       "         1.00000000e+00,  0.00000000e+00,  1.00000000e+00,\n",
       "         0.00000000e+00,  1.00000000e+00,  1.00000000e+00,\n",
       "         6.12323400e-17, -9.99768502e-01,  2.15160974e-02],\n",
       "       [ 3.08810683e-01,  1.00000000e+00,  0.00000000e+00,\n",
       "         1.00000000e+00,  0.00000000e+00, -8.66025404e-01,\n",
       "         5.00000000e-01, -8.66025404e-01, -5.00000000e-01,\n",
       "         8.66025404e-01, -5.00000000e-01,  0.00000000e+00,\n",
       "         1.00000000e+00,  0.00000000e+00,  1.00000000e+00,\n",
       "         0.00000000e+00,  1.00000000e+00,  1.00000000e+00,\n",
       "         6.12323400e-17, -9.99768502e-01,  2.15160974e-02],\n",
       "       [ 3.26594284e-01,  1.00000000e+00,  0.00000000e+00,\n",
       "         1.00000000e+00,  0.00000000e+00, -8.66025404e-01,\n",
       "         5.00000000e-01, -8.66025404e-01, -5.00000000e-01,\n",
       "         7.07106781e-01, -7.07106781e-01,  0.00000000e+00,\n",
       "         1.00000000e+00,  0.00000000e+00,  1.00000000e+00,\n",
       "         0.00000000e+00,  1.00000000e+00,  1.00000000e+00,\n",
       "         6.12323400e-17, -9.99768502e-01,  2.15160974e-02],\n",
       "       [ 3.40009984e-01,  1.00000000e+00,  0.00000000e+00,\n",
       "         1.00000000e+00,  0.00000000e+00, -8.66025404e-01,\n",
       "         5.00000000e-01, -8.66025404e-01, -5.00000000e-01,\n",
       "         5.00000000e-01, -8.66025404e-01,  0.00000000e+00,\n",
       "         1.00000000e+00,  0.00000000e+00,  1.00000000e+00,\n",
       "         0.00000000e+00,  1.00000000e+00,  1.00000000e+00,\n",
       "         6.12323400e-17, -9.99768502e-01,  2.15160974e-02],\n",
       "       [ 3.47747410e-01,  1.00000000e+00,  0.00000000e+00,\n",
       "         1.00000000e+00,  0.00000000e+00, -8.66025404e-01,\n",
       "         5.00000000e-01, -8.66025404e-01, -5.00000000e-01,\n",
       "         2.58819045e-01, -9.65925826e-01,  0.00000000e+00,\n",
       "         1.00000000e+00,  0.00000000e+00,  1.00000000e+00,\n",
       "         0.00000000e+00,  1.00000000e+00,  1.00000000e+00,\n",
       "         6.12323400e-17, -9.99768502e-01,  2.15160974e-02],\n",
       "       [ 3.56046425e-01,  1.00000000e+00,  0.00000000e+00,\n",
       "         1.00000000e+00,  0.00000000e+00, -8.66025404e-01,\n",
       "         5.00000000e-01, -8.66025404e-01, -5.00000000e-01,\n",
       "         1.22464680e-16, -1.00000000e+00,  0.00000000e+00,\n",
       "         1.00000000e+00,  0.00000000e+00,  1.00000000e+00,\n",
       "         0.00000000e+00,  1.00000000e+00,  1.00000000e+00,\n",
       "         6.12323400e-17, -9.99768502e-01,  2.15160974e-02],\n",
       "       [ 3.57855984e-01,  1.00000000e+00,  0.00000000e+00,\n",
       "         1.00000000e+00,  0.00000000e+00, -8.66025404e-01,\n",
       "         5.00000000e-01, -8.66025404e-01, -5.00000000e-01,\n",
       "        -2.58819045e-01, -9.65925826e-01,  0.00000000e+00,\n",
       "         1.00000000e+00,  0.00000000e+00,  1.00000000e+00,\n",
       "         0.00000000e+00,  1.00000000e+00,  1.00000000e+00,\n",
       "         6.12323400e-17, -9.99768502e-01,  2.15160974e-02],\n",
       "       [ 3.73518033e-01,  1.00000000e+00,  0.00000000e+00,\n",
       "         1.00000000e+00,  0.00000000e+00, -8.66025404e-01,\n",
       "         5.00000000e-01, -8.66025404e-01, -5.00000000e-01,\n",
       "        -5.00000000e-01, -8.66025404e-01,  0.00000000e+00,\n",
       "         1.00000000e+00,  0.00000000e+00,  1.00000000e+00,\n",
       "         0.00000000e+00,  1.00000000e+00,  1.00000000e+00,\n",
       "         6.12323400e-17, -9.99768502e-01,  2.15160974e-02],\n",
       "       [ 3.78759516e-01,  1.00000000e+00,  0.00000000e+00,\n",
       "         1.00000000e+00,  0.00000000e+00, -8.66025404e-01,\n",
       "         5.00000000e-01, -8.66025404e-01, -5.00000000e-01,\n",
       "        -7.07106781e-01, -7.07106781e-01,  0.00000000e+00,\n",
       "         1.00000000e+00,  0.00000000e+00,  1.00000000e+00,\n",
       "         0.00000000e+00,  1.00000000e+00,  1.00000000e+00,\n",
       "         6.12323400e-17, -9.99768502e-01,  2.15160974e-02],\n",
       "       [ 3.78759516e-01,  1.00000000e+00,  0.00000000e+00,\n",
       "         1.00000000e+00,  0.00000000e+00, -8.66025404e-01,\n",
       "         5.00000000e-01, -8.66025404e-01, -5.00000000e-01,\n",
       "        -8.66025404e-01, -5.00000000e-01,  0.00000000e+00,\n",
       "         1.00000000e+00,  0.00000000e+00,  1.00000000e+00,\n",
       "         0.00000000e+00,  1.00000000e+00,  1.00000000e+00,\n",
       "         6.12323400e-17, -9.99768502e-01,  2.15160974e-02],\n",
       "       [ 3.72831649e-01,  1.00000000e+00,  0.00000000e+00,\n",
       "         1.00000000e+00,  0.00000000e+00, -8.66025404e-01,\n",
       "         5.00000000e-01, -8.66025404e-01, -5.00000000e-01,\n",
       "        -9.65925826e-01, -2.58819045e-01,  0.00000000e+00,\n",
       "         1.00000000e+00,  0.00000000e+00,  1.00000000e+00,\n",
       "         0.00000000e+00,  1.00000000e+00,  1.00000000e+00,\n",
       "         6.12323400e-17, -9.99768502e-01,  2.15160974e-02],\n",
       "       [ 3.54673655e-01,  1.00000000e+00,  0.00000000e+00,\n",
       "         1.00000000e+00,  0.00000000e+00, -8.66025404e-01,\n",
       "         5.00000000e-01, -8.66025404e-01, -5.00000000e-01,\n",
       "        -1.00000000e+00, -1.83697020e-16,  0.00000000e+00,\n",
       "         1.00000000e+00,  0.00000000e+00,  1.00000000e+00,\n",
       "         0.00000000e+00,  1.00000000e+00,  1.00000000e+00,\n",
       "         6.12323400e-17, -9.99768502e-01,  2.15160974e-02],\n",
       "       [ 3.34768501e-01,  1.00000000e+00,  0.00000000e+00,\n",
       "         1.00000000e+00,  0.00000000e+00, -8.66025404e-01,\n",
       "         5.00000000e-01, -8.66025404e-01, -5.00000000e-01,\n",
       "        -9.65925826e-01,  2.58819045e-01,  0.00000000e+00,\n",
       "         1.00000000e+00,  0.00000000e+00,  1.00000000e+00,\n",
       "         0.00000000e+00,  1.00000000e+00,  1.00000000e+00,\n",
       "         6.12323400e-17, -9.99768502e-01,  2.15160974e-02],\n",
       "       [ 3.45813054e-01,  1.00000000e+00,  0.00000000e+00,\n",
       "         1.00000000e+00,  0.00000000e+00, -8.66025404e-01,\n",
       "         5.00000000e-01, -8.66025404e-01, -5.00000000e-01,\n",
       "        -8.66025404e-01,  5.00000000e-01,  0.00000000e+00,\n",
       "         1.00000000e+00,  0.00000000e+00,  1.00000000e+00,\n",
       "         0.00000000e+00,  1.00000000e+00,  1.00000000e+00,\n",
       "         6.12323400e-17, -9.99768502e-01,  2.15160974e-02],\n",
       "       [ 3.54424061e-01,  1.00000000e+00,  0.00000000e+00,\n",
       "         1.00000000e+00,  0.00000000e+00, -8.66025404e-01,\n",
       "         5.00000000e-01, -8.66025404e-01, -5.00000000e-01,\n",
       "        -7.07106781e-01,  7.07106781e-01,  0.00000000e+00,\n",
       "         1.00000000e+00,  0.00000000e+00,  1.00000000e+00,\n",
       "         0.00000000e+00,  1.00000000e+00,  1.00000000e+00,\n",
       "         6.12323400e-17, -9.99768502e-01,  2.15160974e-02],\n",
       "       [ 3.22475977e-01,  1.00000000e+00,  0.00000000e+00,\n",
       "         1.00000000e+00,  0.00000000e+00, -8.66025404e-01,\n",
       "         5.00000000e-01, -8.66025404e-01, -5.00000000e-01,\n",
       "        -5.00000000e-01,  8.66025404e-01,  0.00000000e+00,\n",
       "         1.00000000e+00,  0.00000000e+00,  1.00000000e+00,\n",
       "         0.00000000e+00,  1.00000000e+00,  1.00000000e+00,\n",
       "         6.12323400e-17, -9.99768502e-01,  2.15160974e-02],\n",
       "       [ 2.74429053e-01,  1.00000000e+00,  0.00000000e+00,\n",
       "         1.00000000e+00,  0.00000000e+00, -8.66025404e-01,\n",
       "         5.00000000e-01, -8.66025404e-01, -5.00000000e-01,\n",
       "        -2.58819045e-01,  9.65925826e-01,  0.00000000e+00,\n",
       "         1.00000000e+00,  0.00000000e+00,  1.00000000e+00,\n",
       "         0.00000000e+00,  1.00000000e+00,  1.00000000e+00,\n",
       "         6.12323400e-17, -9.99768502e-01,  2.15160974e-02],\n",
       "       [ 2.17022339e-01,  1.00000000e+00,  0.00000000e+00,\n",
       "         0.00000000e+00,  1.00000000e+00, -8.66025404e-01,\n",
       "         5.00000000e-01, -8.66025404e-01,  5.00000000e-01,\n",
       "         0.00000000e+00,  1.00000000e+00,  0.00000000e+00,\n",
       "         1.00000000e+00,  0.00000000e+00,  1.00000000e+00,\n",
       "         0.00000000e+00,  1.00000000e+00,  1.00000000e+00,\n",
       "         6.12323400e-17, -9.99250011e-01,  3.87222809e-02]])"
      ]
     },
     "execution_count": 23,
     "metadata": {},
     "output_type": "execute_result"
    }
   ],
   "source": [
    "train_X[0]"
   ]
  },
  {
   "cell_type": "code",
   "execution_count": 24,
   "metadata": {},
   "outputs": [
    {
     "data": {
      "text/plain": [
       "array([1., 1.])"
      ]
     },
     "execution_count": 24,
     "metadata": {},
     "output_type": "execute_result"
    }
   ],
   "source": [
    "train_y[0]"
   ]
  },
  {
   "cell_type": "code",
   "execution_count": 25,
   "metadata": {},
   "outputs": [
    {
     "name": "stdout",
     "output_type": "stream",
     "text": [
      "Time Consumed 1.2476592063903809 sec\n"
     ]
    }
   ],
   "source": [
    "start = time.time()\n",
    "train_X , train_y = univariate_multi_step(train_set, time_steps, target_col=0,target_len=1)\n",
    "validation_X, validation_y = univariate_multi_step(validation_set, time_steps, target_col=0,target_len=1)\n",
    "test_X, test_y = univariate_multi_step(test_set, time_steps, target_col=0,target_len=1)\n",
    "print('Time Consumed', time.time()-start, \"sec\")"
   ]
  },
  {
   "cell_type": "code",
   "execution_count": 26,
   "metadata": {},
   "outputs": [
    {
     "name": "stdout",
     "output_type": "stream",
     "text": [
      "Epoch 1/5\n",
      "2645/2653 [============================>.] - ETA: 0s - loss: 0.0458 - mae: 0.0458 - mape: 2045.6423\n",
      "Epoch 1: val_loss improved from inf to 0.02846, saving model to G:\\8TH SEMESTER\\MahaviaKhan_ML\\chkmlp\\E1-cp-0001-loss0.03.h5\n",
      "2653/2653 [==============================] - 16s 5ms/step - loss: 0.0457 - mae: 0.0457 - mape: 2039.8390 - val_loss: 0.0285 - val_mae: 0.0285 - val_mape: 12.6454\n",
      "Epoch 2/5\n",
      "2644/2653 [============================>.] - ETA: 0s - loss: 0.0264 - mae: 0.0264 - mape: 1346.8434\n",
      "Epoch 2: val_loss improved from 0.02846 to 0.02592, saving model to G:\\8TH SEMESTER\\MahaviaKhan_ML\\chkmlp\\E1-cp-0002-loss0.03.h5\n",
      "2653/2653 [==============================] - 13s 5ms/step - loss: 0.0263 - mae: 0.0263 - mape: 1342.5190 - val_loss: 0.0259 - val_mae: 0.0259 - val_mape: 11.6621\n",
      "Epoch 3/5\n",
      "2653/2653 [==============================] - ETA: 0s - loss: 0.0234 - mae: 0.0234 - mape: 484.4609\n",
      "Epoch 3: val_loss improved from 0.02592 to 0.01922, saving model to G:\\8TH SEMESTER\\MahaviaKhan_ML\\chkmlp\\E1-cp-0003-loss0.02.h5\n",
      "2653/2653 [==============================] - 13s 5ms/step - loss: 0.0234 - mae: 0.0234 - mape: 484.4609 - val_loss: 0.0192 - val_mae: 0.0192 - val_mape: 8.5314\n",
      "Epoch 4/5\n",
      "2646/2653 [============================>.] - ETA: 0s - loss: 0.0214 - mae: 0.0214 - mape: 793.6907\n",
      "Epoch 4: val_loss did not improve from 0.01922\n",
      "2653/2653 [==============================] - 13s 5ms/step - loss: 0.0214 - mae: 0.0214 - mape: 791.7441 - val_loss: 0.0281 - val_mae: 0.0281 - val_mape: 12.2819\n",
      "Epoch 5/5\n",
      "2647/2653 [============================>.] - ETA: 0s - loss: 0.0197 - mae: 0.0197 - mape: 605.5704\n",
      "Epoch 5: val_loss improved from 0.01922 to 0.01814, saving model to G:\\8TH SEMESTER\\MahaviaKhan_ML\\chkmlp\\E1-cp-0005-loss0.02.h5\n",
      "2653/2653 [==============================] - 14s 5ms/step - loss: 0.0197 - mae: 0.0197 - mape: 604.3116 - val_loss: 0.0181 - val_mae: 0.0181 - val_mape: 7.5786\n"
     ]
    }
   ],
   "source": [
    "epochs = 5\n",
    "verbose = 1 #0\n",
    "batch_size = 32\n",
    "History = model.fit(train_X,\n",
    "                        train_y,\n",
    "                        batch_size=batch_size,   \n",
    "                        epochs = epochs, \n",
    "                        validation_data = (validation_X,validation_y),\n",
    "                        callbacks=callbacks,\n",
    "                    verbose = verbose)"
   ]
  },
  {
   "cell_type": "code",
   "execution_count": 27,
   "metadata": {},
   "outputs": [
    {
     "name": "stdout",
     "output_type": "stream",
     "text": [
      "379/379 [==============================] - 1s 3ms/step\n",
      "Mean Absolute Error (MAE): 300.9\n",
      "Median Absolute Error (MedAE): 242.96\n",
      "Mean Squared Error (MSE): 149538.76\n",
      "Root Mean Squared Error (RMSE): 386.7\n",
      "Mean Absolute Percentage Error (MAPE): 2.04 %\n",
      "Median Absolute Percentage Error (MDAPE): 1.71 %\n",
      "\n",
      "\n",
      "y_test_unscaled.shape=  (12105, 1)\n",
      "y_pred.shape=  (12105, 1)\n"
     ]
    }
   ],
   "source": [
    "\n",
    "model = load_model(r'G:\\8TH SEMESTER\\MahaviaKhan_ML\\chkmlp\\E1-cp-0005-loss0.02.h5')\n",
    "\n",
    "y_pred_scaled   = model.predict(test_X)\n",
    "y_pred          = scaler.inverse_transform(y_pred_scaled)\n",
    "y_test_unscaled = scaler.inverse_transform(test_y)\n",
    "# Mean Absolute Error (MAE)\n",
    "MAE = np.mean(abs(y_pred - y_test_unscaled)) \n",
    "print('Mean Absolute Error (MAE): ' + str(np.round(MAE, 2)))\n",
    "\n",
    "# Median Absolute Error (MedAE)\n",
    "MEDAE = np.median(abs(y_pred - y_test_unscaled))\n",
    "print('Median Absolute Error (MedAE): ' + str(np.round(MEDAE, 2)))\n",
    "\n",
    "# Mean Squared Error (MSE)\n",
    "MSE = np.square(np.subtract(y_pred, y_test_unscaled)).mean()\n",
    "print('Mean Squared Error (MSE): ' + str(np.round(MSE, 2)))\n",
    "\n",
    "# Root Mean Squarred Error (RMSE) \n",
    "RMSE = np.sqrt(np.mean(np.square(y_pred - y_test_unscaled)))\n",
    "print('Root Mean Squared Error (RMSE): ' + str(np.round(RMSE, 2)))\n",
    "\n",
    "# Mean Absolute Percentage Error (MAPE)\n",
    "MAPE = np.mean((np.abs(np.subtract(y_test_unscaled, y_pred)/ y_test_unscaled))) * 100\n",
    "print('Mean Absolute Percentage Error (MAPE): ' + str(np.round(MAPE, 2)) + ' %')\n",
    "\n",
    "# Median Absolute Percentage Error (MDAPE)\n",
    "MDAPE = np.median((np.abs(np.subtract(y_test_unscaled, y_pred)/ y_test_unscaled))) * 100\n",
    "print('Median Absolute Percentage Error (MDAPE): ' + str(np.round(MDAPE, 2)) + ' %')\n",
    "\n",
    "print('\\n\\ny_test_unscaled.shape= ',y_test_unscaled.shape)\n",
    "print('y_pred.shape= ',y_pred.shape)"
   ]
  },
  {
   "cell_type": "markdown",
   "metadata": {},
   "source": [
    "# Fine Tuning"
   ]
  },
  {
   "cell_type": "code",
   "execution_count": 30,
   "metadata": {},
   "outputs": [],
   "source": [
    "checkpoints = r'G:\\8TH SEMESTER\\MahaviaKhan_ML\\chkmlp\\E2-cp-{epoch:04d}-loss{val_loss:.2f}.h5'\n",
    "model=r'G:\\8TH SEMESTER\\MahaviaKhan_ML\\chkmlp\\E1-cp-0005-loss0.02.h5'\n",
    "start_epoch= 6"
   ]
  },
  {
   "cell_type": "code",
   "execution_count": 31,
   "metadata": {},
   "outputs": [
    {
     "name": "stdout",
     "output_type": "stream",
     "text": [
      "[INFO] loading G:\\8TH SEMESTER\\MahaviaKhan_ML\\chkmlp\\E1-cp-0005-loss0.02.h5...\n",
      "[INFO] old learning rate: 0.0010000000474974513\n",
      "[INFO] new learning rate: 9.999999747378752e-05\n"
     ]
    }
   ],
   "source": [
    "# construct the callback to save only the *best* model to disk\n",
    "# based on the validation loss\n",
    "EpochCheckpoint1 = ModelCheckpoint(checkpoints,\n",
    "                             monitor=\"val_loss\",\n",
    "                             save_best_only=True, \n",
    "                             verbose=1)\n",
    "#TrainingMonitor1=TrainingMonitor(FIG_PATH, jsonPath=JSON_PATH, startAt=start_epoch)\n",
    "\n",
    "# construct the set of callbacks\n",
    "callbacks = [EpochCheckpoint1]\n",
    "# if there is no specific model checkpoint supplied, then initialize\n",
    "# the network and compile the model\n",
    "if model is None:\n",
    "    print(\"[INFO] compiling model...\")\n",
    "    model = PC.build(time_steps=24, num_features=21, reg=0.0005)\n",
    "    opt = Adam(1e-3)\n",
    "    model.compile(loss= 'mae', optimizer=opt, metrics=[\"mae\", \"mape\"])\n",
    "# otherwise, load the checkpoint from disk\n",
    "else:\n",
    "    print(\"[INFO] loading {}...\".format(model))\n",
    "    model = load_model(model)\n",
    "\n",
    "    # update the learning rate\n",
    "    print(\"[INFO] old learning rate: {}\".format(K.get_value(model.optimizer.lr)))\n",
    "    K.set_value(model.optimizer.lr, 1e-4)\n",
    "    print(\"[INFO] new learning rate: {}\".format(K.get_value(model.optimizer.lr)))"
   ]
  },
  {
   "cell_type": "code",
   "execution_count": 32,
   "metadata": {},
   "outputs": [
    {
     "name": "stdout",
     "output_type": "stream",
     "text": [
      "Epoch 1/5\n",
      "2653/2653 [==============================] - ETA: 0s - loss: 0.0139 - mae: 0.0139 - mape: 304.1871\n",
      "Epoch 1: val_loss improved from inf to 0.01376, saving model to G:\\8TH SEMESTER\\MahaviaKhan_ML\\chkmlp\\E2-cp-0001-loss0.01.h5\n",
      "2653/2653 [==============================] - 15s 5ms/step - loss: 0.0139 - mae: 0.0139 - mape: 304.1871 - val_loss: 0.0138 - val_mae: 0.0138 - val_mape: 5.9431\n",
      "Epoch 2/5\n",
      "2644/2653 [============================>.] - ETA: 0s - loss: 0.0134 - mae: 0.0134 - mape: 411.5073\n",
      "Epoch 2: val_loss did not improve from 0.01376\n",
      "2653/2653 [==============================] - 14s 5ms/step - loss: 0.0134 - mae: 0.0134 - mape: 410.1909 - val_loss: 0.0144 - val_mae: 0.0144 - val_mape: 6.1589\n",
      "Epoch 3/5\n",
      "2645/2653 [============================>.] - ETA: 0s - loss: 0.0131 - mae: 0.0131 - mape: 327.2767\n",
      "Epoch 3: val_loss improved from 0.01376 to 0.01242, saving model to G:\\8TH SEMESTER\\MahaviaKhan_ML\\chkmlp\\E2-cp-0003-loss0.01.h5\n",
      "2653/2653 [==============================] - 14s 5ms/step - loss: 0.0131 - mae: 0.0131 - mape: 326.3544 - val_loss: 0.0124 - val_mae: 0.0124 - val_mape: 5.1448\n",
      "Epoch 4/5\n",
      "2646/2653 [============================>.] - ETA: 0s - loss: 0.0128 - mae: 0.0128 - mape: 439.7046\n",
      "Epoch 4: val_loss did not improve from 0.01242\n",
      "2653/2653 [==============================] - 13s 5ms/step - loss: 0.0128 - mae: 0.0128 - mape: 438.6266 - val_loss: 0.0131 - val_mae: 0.0131 - val_mape: 5.7533\n",
      "Epoch 5/5\n",
      "2652/2653 [============================>.] - ETA: 0s - loss: 0.0126 - mae: 0.0126 - mape: 338.7345\n",
      "Epoch 5: val_loss improved from 0.01242 to 0.01209, saving model to G:\\8TH SEMESTER\\MahaviaKhan_ML\\chkmlp\\E2-cp-0005-loss0.01.h5\n",
      "2653/2653 [==============================] - 14s 5ms/step - loss: 0.0126 - mae: 0.0126 - mape: 338.6636 - val_loss: 0.0121 - val_mae: 0.0121 - val_mape: 5.0656\n"
     ]
    }
   ],
   "source": [
    "epochs = 5\n",
    "verbose = 1 #0\n",
    "batch_size = 32\n",
    "History = model.fit(train_X,\n",
    "                        train_y,\n",
    "                        batch_size=batch_size,   \n",
    "                        epochs = epochs, \n",
    "                        validation_data = (validation_X,validation_y),\n",
    "                        callbacks=callbacks,\n",
    "                        verbose = verbose)"
   ]
  },
  {
   "cell_type": "code",
   "execution_count": 33,
   "metadata": {},
   "outputs": [
    {
     "name": "stdout",
     "output_type": "stream",
     "text": [
      "379/379 [==============================] - 1s 3ms/step\n",
      "Mean Absolute Error (MAE): 200.95\n",
      "Median Absolute Error (MedAE): 161.6\n",
      "Mean Squared Error (MSE): 67533.24\n",
      "Root Mean Squared Error (RMSE): 259.87\n",
      "Mean Absolute Percentage Error (MAPE): 1.36 %\n",
      "Median Absolute Percentage Error (MDAPE): 1.12 %\n",
      "\n",
      "\n",
      "y_test_unscaled.shape=  (12105, 1)\n",
      "y_pred.shape=  (12105, 1)\n"
     ]
    }
   ],
   "source": [
    "\n",
    "model = load_model(r'G:\\8TH SEMESTER\\MahaviaKhan_ML\\chkmlp\\E2-cp-0005-loss0.01.h5')\n",
    "\n",
    "y_pred_scaled   = model.predict(test_X)\n",
    "y_pred          = scaler.inverse_transform(y_pred_scaled)\n",
    "y_test_unscaled = scaler.inverse_transform(test_y)\n",
    "# Mean Absolute Error (MAE)\n",
    "MAE = np.mean(abs(y_pred - y_test_unscaled)) \n",
    "print('Mean Absolute Error (MAE): ' + str(np.round(MAE, 2)))\n",
    "\n",
    "# Median Absolute Error (MedAE)\n",
    "MEDAE = np.median(abs(y_pred - y_test_unscaled))\n",
    "print('Median Absolute Error (MedAE): ' + str(np.round(MEDAE, 2)))\n",
    "\n",
    "# Mean Squared Error (MSE)\n",
    "MSE = np.square(np.subtract(y_pred, y_test_unscaled)).mean()\n",
    "print('Mean Squared Error (MSE): ' + str(np.round(MSE, 2)))\n",
    "\n",
    "# Root Mean Squarred Error (RMSE) \n",
    "RMSE = np.sqrt(np.mean(np.square(y_pred - y_test_unscaled)))\n",
    "print('Root Mean Squared Error (RMSE): ' + str(np.round(RMSE, 2)))\n",
    "\n",
    "# Mean Absolute Percentage Error (MAPE)\n",
    "MAPE = np.mean((np.abs(np.subtract(y_test_unscaled, y_pred)/ y_test_unscaled))) * 100\n",
    "print('Mean Absolute Percentage Error (MAPE): ' + str(np.round(MAPE, 2)) + ' %')\n",
    "\n",
    "# Median Absolute Percentage Error (MDAPE)\n",
    "MDAPE = np.median((np.abs(np.subtract(y_test_unscaled, y_pred)/ y_test_unscaled))) * 100\n",
    "print('Median Absolute Percentage Error (MDAPE): ' + str(np.round(MDAPE, 2)) + ' %')\n",
    "\n",
    "print('\\n\\ny_test_unscaled.shape= ',y_test_unscaled.shape)\n",
    "print('y_pred.shape= ',y_pred.shape)"
   ]
  },
  {
   "cell_type": "code",
   "execution_count": null,
   "metadata": {},
   "outputs": [],
   "source": []
  }
 ],
 "metadata": {
  "kernelspec": {
   "display_name": "Python 3 (ipykernel)",
   "language": "python",
   "name": "python3"
  },
  "language_info": {
   "codemirror_mode": {
    "name": "ipython",
    "version": 3
   },
   "file_extension": ".py",
   "mimetype": "text/x-python",
   "name": "python",
   "nbconvert_exporter": "python",
   "pygments_lexer": "ipython3",
   "version": "3.7.16"
  }
 },
 "nbformat": 4,
 "nbformat_minor": 4
}
